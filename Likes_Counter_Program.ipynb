{
  "nbformat": 4,
  "nbformat_minor": 0,
  "metadata": {
    "colab": {
      "provenance": []
    },
    "kernelspec": {
      "name": "python3",
      "display_name": "Python 3"
    },
    "language_info": {
      "name": "python"
    }
  },
  "cells": [
    {
      "cell_type": "code",
      "execution_count": null,
      "metadata": {
        "id": "bjYf-b-ZklIv"
      },
      "outputs": [],
      "source": [
        "blog_posts = [{'Photos': 3, 'Likes': 21, 'Comments': 2},\n",
        "              {'Likes': 13, 'Comments': 2, 'Shares': 1},\n",
        "              {'Photos': 5, 'Likes': 33, 'Comments': 8, 'Shares': 3},\n",
        "              {'Comments': 4, 'Shares': 2},\n",
        "              {'Photos': 8, 'Comments': 1, 'Shares': 1},\n",
        "              {'Photos': 3, 'Likes': 19, 'Comments': 3}]"
      ]
    },
    {
      "cell_type": "code",
      "source": [],
      "metadata": {
        "id": "dUCG4KXm0jwI"
      },
      "execution_count": null,
      "outputs": []
    }
  ]
}
total_likes = 0
